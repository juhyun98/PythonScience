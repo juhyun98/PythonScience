{
 "cells": [
  {
   "cell_type": "code",
   "execution_count": 11,
   "id": "82b4014f",
   "metadata": {},
   "outputs": [],
   "source": [
    "from selenium import webdriver as wb\n",
    "from selenium.webdriver.common.by import By\n",
    "import time\n",
    "from selenium.webdriver.common.keys import Keys"
   ]
  },
  {
   "cell_type": "code",
   "execution_count": 70,
   "id": "0296b6c7",
   "metadata": {},
   "outputs": [],
   "source": [
    "# 1. 크롬드라이버를 실행해서 네이버지도 사이트로 이동\n",
    "driver = wb.Chrome()\n",
    "driver.get('https://map.naver.com/p?c=15.00,0,0,0,dh')"
   ]
  },
  {
   "cell_type": "code",
   "execution_count": 71,
   "id": "51979634",
   "metadata": {},
   "outputs": [],
   "source": [
    "# 2. 검색창에 검색어를 입력(동명동 회식)\n",
    "# 검색창의 구분자인 id값이 실행 할 때마다 변한다.\n",
    "# 이런 경우에는 다른 선택자를 활용을 해야한다.\n",
    "search = driver.find_element(By.CLASS_NAME,\"input_search\")\n",
    "search.send_keys('동명동 회식')\n",
    "search.send_keys(Keys.ENTER)"
   ]
  },
  {
   "cell_type": "code",
   "execution_count": 65,
   "id": "ecaa09f0",
   "metadata": {},
   "outputs": [],
   "source": [
    "# 미미원을 클릭해서 세부정보를 조회\n",
    "# 화면상에 데이터가 출력은 되는데 조작이 안될 때는 iframe을 검사해라!\n",
    "# 1. req는 iframe src를 찾아가서 거기서 데이터 수집을 했다.\n",
    "# 2. selenium에서는 현재 컴퓨터가 바라보고있는 html창을 변경\n",
    "title = driver.find_elements(By.CSS_SELECTOR, \".place_bluelink.YwYLL\")\n",
    "title[0].click()"
   ]
  },
  {
   "cell_type": "code",
   "execution_count": 78,
   "id": "21e9ea31",
   "metadata": {},
   "outputs": [],
   "source": [
    "# 컴퓨터에게 바라보고 있는 창을 원하는 iframe으로 변경\n",
    "# frame을 변경할 때는 switch_to.frame(\"iframe의 id\")\n",
    "driver.switch_to.frame(\"searchIframe\")"
   ]
  },
  {
   "cell_type": "code",
   "execution_count": 76,
   "id": "e8ab9e7c",
   "metadata": {},
   "outputs": [],
   "source": [
    "title = driver.find_elements(By.CSS_SELECTOR, \".place_bluelink.YwYLL\")\n",
    "title[0].click()"
   ]
  },
  {
   "cell_type": "code",
   "execution_count": 80,
   "id": "1437b6b2",
   "metadata": {},
   "outputs": [],
   "source": [
    "# 상세정보에서 가게 이름 수집\n",
    "# 주의점!\n",
    "# iframe에서 다른 iframe으로 바로 이동이 불가능\n",
    "# 원본 데이터로 이동 -> 다른 iframe으로 이동\n",
    "driver.switch_to.default_content()"
   ]
  },
  {
   "cell_type": "code",
   "execution_count": 81,
   "id": "75327b8a",
   "metadata": {},
   "outputs": [],
   "source": [
    "driver.switch_to.frame(\"entryIframe\")"
   ]
  },
  {
   "cell_type": "code",
   "execution_count": 60,
   "id": "3bb0a8fb",
   "metadata": {},
   "outputs": [
    {
     "data": {
      "text/plain": [
       "'미미원'"
      ]
     },
     "execution_count": 60,
     "metadata": {},
     "output_type": "execute_result"
    }
   ],
   "source": [
    "name = driver.find_element(By.CSS_SELECTOR, '.Fc1rA')\n",
    "name.text"
   ]
  },
  {
   "cell_type": "code",
   "execution_count": 79,
   "id": "10b930ce",
   "metadata": {},
   "outputs": [],
   "source": [
    "# 황톳길 (검색내용 2번째) 클릭 -> 가게이름\n",
    "# driver = wb.Chrome()\n",
    "# driver.get('https://map.naver.com/p?c=15.00,0,0,0,dh')\n",
    "# search = driver.find_element(By.CLASS_NAME,\"input_search\")\n",
    "# search.send_keys('동명동 회식')\n",
    "# search.send_keys(Keys.ENTER)\n",
    "# time.sleep(3)\n",
    "# driver.switch_to.frame(\"searchIframe\")\n",
    "# title = driver.find_elements(By.CSS_SELECTOR, \".place_bluelink.YwYLL\")\n",
    "# title[1].click()\n",
    "# time.sleep(3)\n",
    "# driver.switch_to.default_content()\n",
    "# driver.switch_to.frame(\"entryIframe\")\n",
    "# time.sleep(1)\n",
    "# name = driver.find_element(By.CSS_SELECTOR, '.Fc1rA')\n",
    "# name.text\n",
    "title = driver.find_elements(By.CSS_SELECTOR, \".place_bluelink.YwYLL\")\n",
    "title[1].click()"
   ]
  },
  {
   "cell_type": "code",
   "execution_count": 82,
   "id": "65829497",
   "metadata": {},
   "outputs": [
    {
     "data": {
      "text/plain": [
       "'황톳길'"
      ]
     },
     "execution_count": 82,
     "metadata": {},
     "output_type": "execute_result"
    }
   ],
   "source": [
    "name = driver.find_element(By.CSS_SELECTOR, '.Fc1rA')\n",
    "name.text"
   ]
  },
  {
   "cell_type": "code",
   "execution_count": null,
   "id": "311a0caf",
   "metadata": {},
   "outputs": [],
   "source": []
  },
  {
   "cell_type": "code",
   "execution_count": null,
   "id": "3468fa36",
   "metadata": {},
   "outputs": [],
   "source": []
  },
  {
   "cell_type": "code",
   "execution_count": null,
   "id": "6530e222",
   "metadata": {},
   "outputs": [],
   "source": []
  },
  {
   "cell_type": "code",
   "execution_count": null,
   "id": "3cebfbe3",
   "metadata": {},
   "outputs": [],
   "source": []
  },
  {
   "cell_type": "code",
   "execution_count": null,
   "id": "efb5ca65",
   "metadata": {},
   "outputs": [],
   "source": []
  },
  {
   "cell_type": "code",
   "execution_count": null,
   "id": "20c7acda",
   "metadata": {},
   "outputs": [],
   "source": []
  },
  {
   "cell_type": "code",
   "execution_count": null,
   "id": "e097cbf1",
   "metadata": {},
   "outputs": [],
   "source": []
  },
  {
   "cell_type": "code",
   "execution_count": null,
   "id": "f4cdbbc4",
   "metadata": {},
   "outputs": [],
   "source": []
  },
  {
   "cell_type": "code",
   "execution_count": null,
   "id": "2638aabf",
   "metadata": {},
   "outputs": [],
   "source": []
  },
  {
   "cell_type": "code",
   "execution_count": null,
   "id": "657eff4f",
   "metadata": {},
   "outputs": [],
   "source": []
  },
  {
   "cell_type": "code",
   "execution_count": null,
   "id": "adc65952",
   "metadata": {},
   "outputs": [],
   "source": []
  },
  {
   "cell_type": "code",
   "execution_count": null,
   "id": "e9920519",
   "metadata": {},
   "outputs": [],
   "source": []
  },
  {
   "cell_type": "code",
   "execution_count": null,
   "id": "bd80daf7",
   "metadata": {},
   "outputs": [],
   "source": []
  }
 ],
 "metadata": {
  "kernelspec": {
   "display_name": "Python 3 (ipykernel)",
   "language": "python",
   "name": "python3"
  },
  "language_info": {
   "codemirror_mode": {
    "name": "ipython",
    "version": 3
   },
   "file_extension": ".py",
   "mimetype": "text/x-python",
   "name": "python",
   "nbconvert_exporter": "python",
   "pygments_lexer": "ipython3",
   "version": "3.10.9"
  }
 },
 "nbformat": 4,
 "nbformat_minor": 5
}
