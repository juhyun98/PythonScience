{
 "cells": [
  {
   "cell_type": "code",
   "execution_count": 1,
   "id": "dd96387b-69e1-4407-a670-b6a78bd3f453",
   "metadata": {},
   "outputs": [],
   "source": [
    "# 템플릿 매칭\n",
    "# 배경 사진에서 원하는 물체 찾기\n",
    "# 메이플 배경 이미지에서 파란 달팽이, 초록 버섯 찾기\n",
    "# 좌상단부터 한 픽셀씩 움직이면서 원하는 물체와 배경이 유사한지 검색"
   ]
  },
  {
   "cell_type": "code",
   "execution_count": 4,
   "id": "a20da862-8eba-47d1-b1b3-c896c48109b4",
   "metadata": {},
   "outputs": [],
   "source": [
    "import cv2\n",
    "# 배경화면\n",
    "img = cv2.imread('images/maple.jpg')\n",
    "img_gray = cv2.cvtColor(img, cv2.COLOR_RGB2GRAY)\n",
    "\n",
    "blue_snail = cv2.imread('images/bsnail.jpg')\n",
    "blue_snail_gray = cv2.cvtColor(blue_snail, cv2.COLOR_RGB2GRAY)\n",
    "h1, w1 = blue_snail_gray.shape # 찾을 대상(흑백이미지)의 세로, 가로 크기 받아오기\n",
    "\n",
    "green_mush = cv2.imread('images/gmush.jpg')\n",
    "green_mush_gray = cv2.cvtColor(green_mush, cv2.COLOR_RGB2GRAY)\n",
    "h2, w2 = green_mush_gray.shape # 찾을 대상(흑백이미지)의 세로, 가로 크기 받아오기\n",
    "\n",
    "# 이미지 찾기(배경이미지, 찾을이미지, 찾을 방법)\n",
    "res1 = cv2.matchTemplate(img_gray, blue_snail_gray, cv2.TM_CCOEFF_NORMED)\n",
    "\n",
    "\n",
    "cv2.imshow('maple', img)\n",
    "cv2.imshow('snail', blue_snail)\n",
    "cv2.imshow('mush', green_mush)\n",
    "cv2.waitKey(0)\n",
    "cv2.destroyAllWindows()"
   ]
  },
  {
   "cell_type": "code",
   "execution_count": 5,
   "id": "ef1a6e88-6832-4a71-a315-9f6dc8b256bd",
   "metadata": {},
   "outputs": [],
   "source": [
    "# 배경과 찾는 이미지가 얼마나 유사한지\n",
    "# -1 ~ 1 , -1 = 전혀 상관없음, 1 = 완전 똑같음\n",
    "# 유사도가 0.7 이상인 값들만 사용\n",
    "import numpy as np\n",
    "loc = np.where(res1 >= 0.7)\n",
    "# 데이터 순서 역으로 바꾸기\n",
    "for pt in zip(*loc[::-1]):\n",
    "    # print(pt) x,y 좌표가 들어있음\n",
    "    # 배경이미지에 위치 사각형 표현하기\n",
    "    # cv2.rectangle(배경이미지, 좌상단 좌표, 우하단 좌표, 색상, 두께)\n",
    "    cv2.rectangle(img, pt, (pt[0] + w1, pt[1] + h1), (0,0,255), 3)\n",
    "\n",
    "\n",
    "cv2.imshow('maple', img)\n",
    "cv2.imshow('snail', blue_snail)\n",
    "cv2.imshow('mush', green_mush)\n",
    "cv2.waitKey(0)\n",
    "cv2.destroyAllWindows()"
   ]
  },
  {
   "cell_type": "code",
   "execution_count": 7,
   "id": "fe47006d-24d2-48ea-b67e-cfde2b74d035",
   "metadata": {},
   "outputs": [],
   "source": [
    "import cv2\n",
    "# 배경화면\n",
    "img = cv2.imread('images/maple.jpg')\n",
    "img_gray = cv2.cvtColor(img, cv2.COLOR_RGB2GRAY)\n",
    "\n",
    "blue_snail = cv2.imread('images/bsnail.jpg')\n",
    "blue_snail_gray = cv2.cvtColor(blue_snail, cv2.COLOR_RGB2GRAY)\n",
    "h1, w1 = blue_snail_gray.shape # 찾을 대상(흑백이미지)의 세로, 가로 크기 받아오기\n",
    "\n",
    "green_mush = cv2.imread('images/gmush.jpg')\n",
    "green_mush_gray = cv2.cvtColor(green_mush, cv2.COLOR_RGB2GRAY)\n",
    "h2, w2 = green_mush_gray.shape # 찾을 대상(흑백이미지)의 세로, 가로 크기 받아오기\n",
    "\n",
    "# 이미지 찾기(배경이미지, 찾을이미지, 찾을 방법)\n",
    "res1 = cv2.matchTemplate(img_gray, blue_snail_gray, cv2.TM_CCOEFF_NORMED)\n",
    "res2 = cv2.matchTemplate(img_gray, green_mush_gray, cv2.TM_CCOEFF_NORMED)\n",
    "\n",
    "\n",
    "import numpy as np\n",
    "loc = np.where(res1 >= 0.75)\n",
    "loc2 = np.where(res2 >= 0.75)\n",
    "# 데이터 순서 역으로 바꾸기\n",
    "for pt in zip(*loc[::-1]):\n",
    "    # print(pt) x,y 좌표가 들어있음\n",
    "    # 배경이미지에 위치 사각형 표현하기\n",
    "    # cv2.rectangle(배경이미지, 좌상단 좌표, 우하단 좌표, 색상, 두께)\n",
    "    cv2.rectangle(img, pt, (pt[0] + w1, pt[1] + h1), (0,0,255), 3)\n",
    "\n",
    "for pt in zip(*loc2[::-1]):\n",
    "    cv2.rectangle(img, pt, (pt[0] + w2, pt[1] + h2), (255,0,0), 3)\n",
    "\n",
    "cv2.imshow('maple', img)\n",
    "# cv2.imshow('snail', blue_snail)\n",
    "# cv2.imshow('mush', green_mush)\n",
    "cv2.waitKey(0)\n",
    "cv2.destroyAllWindows()"
   ]
  },
  {
   "cell_type": "code",
   "execution_count": null,
   "id": "cb36110b-51eb-412e-8753-dc747628d6c6",
   "metadata": {},
   "outputs": [],
   "source": []
  },
  {
   "cell_type": "code",
   "execution_count": null,
   "id": "8ef97f26-591f-457b-892b-3b4dbef73b7b",
   "metadata": {},
   "outputs": [],
   "source": []
  },
  {
   "cell_type": "code",
   "execution_count": null,
   "id": "cd62c258-9730-4326-9d46-695d37d246f6",
   "metadata": {},
   "outputs": [],
   "source": []
  }
 ],
 "metadata": {
  "kernelspec": {
   "display_name": "Python 3 (ipykernel)",
   "language": "python",
   "name": "python3"
  },
  "language_info": {
   "codemirror_mode": {
    "name": "ipython",
    "version": 3
   },
   "file_extension": ".py",
   "mimetype": "text/x-python",
   "name": "python",
   "nbconvert_exporter": "python",
   "pygments_lexer": "ipython3",
   "version": "3.8.18"
  }
 },
 "nbformat": 4,
 "nbformat_minor": 5
}
