{
 "cells": [
  {
   "cell_type": "markdown",
   "id": "4f137947",
   "metadata": {},
   "source": [
    "### 전처리된 파일 불러오기"
   ]
  },
  {
   "cell_type": "code",
   "execution_count": 1,
   "id": "7bd59301",
   "metadata": {},
   "outputs": [],
   "source": [
    "import warnings\n",
    "warnings.filterwarnings('ignore')\n",
    "import pandas as pd\n",
    "X_train = pd.read_csv('X_train.csv')\n",
    "y_train = pd.read_csv('y_train.csv')\n",
    "X_test = pd.read_csv('X_test.csv')"
   ]
  },
  {
   "cell_type": "code",
   "execution_count": 2,
   "id": "7b30595b",
   "metadata": {},
   "outputs": [
    {
     "data": {
      "text/plain": [
       "((891, 22), (891, 1), (418, 22))"
      ]
     },
     "execution_count": 2,
     "metadata": {},
     "output_type": "execute_result"
    }
   ],
   "source": [
    "X_train.shape, y_train.shape, X_test.shape"
   ]
  },
  {
   "cell_type": "markdown",
   "id": "7cbb5b4b",
   "metadata": {},
   "source": [
    "### 2. 앙상블 모델 사용하기\n",
    "- 머신러닝에서 성능이 좋은 모델\n",
    "- 여러개의 DecisionTree를 사용하는 모델"
   ]
  },
  {
   "cell_type": "markdown",
   "id": "72f07c77",
   "metadata": {},
   "source": [
    "#### 2.1 RandomForest 모델 사용"
   ]
  },
  {
   "cell_type": "code",
   "execution_count": 3,
   "id": "f54069b7",
   "metadata": {},
   "outputs": [],
   "source": [
    "from sklearn.ensemble import RandomForestClassifier"
   ]
  },
  {
   "cell_type": "code",
   "execution_count": 4,
   "id": "588d6806",
   "metadata": {},
   "outputs": [],
   "source": [
    "# 모델생성\n",
    "forest_model = RandomForestClassifier()"
   ]
  },
  {
   "cell_type": "markdown",
   "id": "de9768ba",
   "metadata": {},
   "source": [
    "#### 2.2 교차검증"
   ]
  },
  {
   "cell_type": "code",
   "execution_count": 5,
   "id": "e88423d4",
   "metadata": {},
   "outputs": [
    {
     "data": {
      "text/plain": [
       "array([0.7877095 , 0.79213483, 0.83707865, 0.76966292, 0.82022472])"
      ]
     },
     "execution_count": 5,
     "metadata": {},
     "output_type": "execute_result"
    }
   ],
   "source": [
    "from sklearn.model_selection import cross_val_score\n",
    "cross_val_score(forest_model, X_train, y_train, cv = 5)"
   ]
  },
  {
   "cell_type": "markdown",
   "id": "c75e2bc1",
   "metadata": {},
   "source": [
    "### 3. 학습"
   ]
  },
  {
   "cell_type": "code",
   "execution_count": 6,
   "id": "f2467d5f",
   "metadata": {},
   "outputs": [
    {
     "data": {
      "text/html": [
       "<style>#sk-container-id-1 {color: black;background-color: white;}#sk-container-id-1 pre{padding: 0;}#sk-container-id-1 div.sk-toggleable {background-color: white;}#sk-container-id-1 label.sk-toggleable__label {cursor: pointer;display: block;width: 100%;margin-bottom: 0;padding: 0.3em;box-sizing: border-box;text-align: center;}#sk-container-id-1 label.sk-toggleable__label-arrow:before {content: \"▸\";float: left;margin-right: 0.25em;color: #696969;}#sk-container-id-1 label.sk-toggleable__label-arrow:hover:before {color: black;}#sk-container-id-1 div.sk-estimator:hover label.sk-toggleable__label-arrow:before {color: black;}#sk-container-id-1 div.sk-toggleable__content {max-height: 0;max-width: 0;overflow: hidden;text-align: left;background-color: #f0f8ff;}#sk-container-id-1 div.sk-toggleable__content pre {margin: 0.2em;color: black;border-radius: 0.25em;background-color: #f0f8ff;}#sk-container-id-1 input.sk-toggleable__control:checked~div.sk-toggleable__content {max-height: 200px;max-width: 100%;overflow: auto;}#sk-container-id-1 input.sk-toggleable__control:checked~label.sk-toggleable__label-arrow:before {content: \"▾\";}#sk-container-id-1 div.sk-estimator input.sk-toggleable__control:checked~label.sk-toggleable__label {background-color: #d4ebff;}#sk-container-id-1 div.sk-label input.sk-toggleable__control:checked~label.sk-toggleable__label {background-color: #d4ebff;}#sk-container-id-1 input.sk-hidden--visually {border: 0;clip: rect(1px 1px 1px 1px);clip: rect(1px, 1px, 1px, 1px);height: 1px;margin: -1px;overflow: hidden;padding: 0;position: absolute;width: 1px;}#sk-container-id-1 div.sk-estimator {font-family: monospace;background-color: #f0f8ff;border: 1px dotted black;border-radius: 0.25em;box-sizing: border-box;margin-bottom: 0.5em;}#sk-container-id-1 div.sk-estimator:hover {background-color: #d4ebff;}#sk-container-id-1 div.sk-parallel-item::after {content: \"\";width: 100%;border-bottom: 1px solid gray;flex-grow: 1;}#sk-container-id-1 div.sk-label:hover label.sk-toggleable__label {background-color: #d4ebff;}#sk-container-id-1 div.sk-serial::before {content: \"\";position: absolute;border-left: 1px solid gray;box-sizing: border-box;top: 0;bottom: 0;left: 50%;z-index: 0;}#sk-container-id-1 div.sk-serial {display: flex;flex-direction: column;align-items: center;background-color: white;padding-right: 0.2em;padding-left: 0.2em;position: relative;}#sk-container-id-1 div.sk-item {position: relative;z-index: 1;}#sk-container-id-1 div.sk-parallel {display: flex;align-items: stretch;justify-content: center;background-color: white;position: relative;}#sk-container-id-1 div.sk-item::before, #sk-container-id-1 div.sk-parallel-item::before {content: \"\";position: absolute;border-left: 1px solid gray;box-sizing: border-box;top: 0;bottom: 0;left: 50%;z-index: -1;}#sk-container-id-1 div.sk-parallel-item {display: flex;flex-direction: column;z-index: 1;position: relative;background-color: white;}#sk-container-id-1 div.sk-parallel-item:first-child::after {align-self: flex-end;width: 50%;}#sk-container-id-1 div.sk-parallel-item:last-child::after {align-self: flex-start;width: 50%;}#sk-container-id-1 div.sk-parallel-item:only-child::after {width: 0;}#sk-container-id-1 div.sk-dashed-wrapped {border: 1px dashed gray;margin: 0 0.4em 0.5em 0.4em;box-sizing: border-box;padding-bottom: 0.4em;background-color: white;}#sk-container-id-1 div.sk-label label {font-family: monospace;font-weight: bold;display: inline-block;line-height: 1.2em;}#sk-container-id-1 div.sk-label-container {text-align: center;}#sk-container-id-1 div.sk-container {/* jupyter's `normalize.less` sets `[hidden] { display: none; }` but bootstrap.min.css set `[hidden] { display: none !important; }` so we also need the `!important` here to be able to override the default hidden behavior on the sphinx rendered scikit-learn.org. See: https://github.com/scikit-learn/scikit-learn/issues/21755 */display: inline-block !important;position: relative;}#sk-container-id-1 div.sk-text-repr-fallback {display: none;}</style><div id=\"sk-container-id-1\" class=\"sk-top-container\"><div class=\"sk-text-repr-fallback\"><pre>RandomForestClassifier()</pre><b>In a Jupyter environment, please rerun this cell to show the HTML representation or trust the notebook. <br />On GitHub, the HTML representation is unable to render, please try loading this page with nbviewer.org.</b></div><div class=\"sk-container\" hidden><div class=\"sk-item\"><div class=\"sk-estimator sk-toggleable\"><input class=\"sk-toggleable__control sk-hidden--visually\" id=\"sk-estimator-id-1\" type=\"checkbox\" checked><label for=\"sk-estimator-id-1\" class=\"sk-toggleable__label sk-toggleable__label-arrow\">RandomForestClassifier</label><div class=\"sk-toggleable__content\"><pre>RandomForestClassifier()</pre></div></div></div></div></div>"
      ],
      "text/plain": [
       "RandomForestClassifier()"
      ]
     },
     "execution_count": 6,
     "metadata": {},
     "output_type": "execute_result"
    }
   ],
   "source": [
    "forest_model.fit(X_train, y_train)"
   ]
  },
  {
   "cell_type": "markdown",
   "id": "b836cb39",
   "metadata": {},
   "source": [
    "### 4.평가"
   ]
  },
  {
   "cell_type": "code",
   "execution_count": 7,
   "id": "c4cc5ab7",
   "metadata": {},
   "outputs": [],
   "source": [
    "# 학습한 모델로 예측\n",
    "pre = forest_model.predict(X_test)\n",
    "# 평가 결과 답안지 불러오기\n",
    "sub = pd.read_csv('titanic/gender_submission.csv')\n",
    "# 평가 결과 답안지에 예측한 값 넣기\n",
    "sub['Survived'] = pre\n",
    "# 예측한 값 내보내기 ==> kaggle\n",
    "sub.to_csv('ojh_emsemble1.csv', index = False)"
   ]
  },
  {
   "cell_type": "code",
   "execution_count": 8,
   "id": "6d5b045f",
   "metadata": {},
   "outputs": [
    {
     "name": "stdout",
     "output_type": "stream",
     "text": [
      "n_estimators : 50, score : 0.8013558470905782\n",
      "n_estimators : 51, score : 0.7990961019396147\n",
      "n_estimators : 52, score : 0.8058251208335949\n",
      "n_estimators : 53, score : 0.7968677421379701\n",
      "n_estimators : 54, score : 0.8092084614901764\n",
      "n_estimators : 55, score : 0.8047140794677045\n",
      "n_estimators : 56, score : 0.8013495700207145\n",
      "n_estimators : 57, score : 0.8047391877471597\n",
      "n_estimators : 58, score : 0.8114682066411399\n",
      "n_estimators : 59, score : 0.7968614650681063\n",
      "n_estimators : 60, score : 0.8002322515849603\n",
      "n_estimators : 61, score : 0.8080911430544221\n",
      "n_estimators : 62, score : 0.803603038101814\n",
      "n_estimators : 63, score : 0.8035904839620865\n",
      "n_estimators : 64, score : 0.7968802962776975\n",
      "n_estimators : 65, score : 0.8092272926997678\n",
      "n_estimators : 66, score : 0.8002322515849603\n",
      "n_estimators : 67, score : 0.8035967610319503\n",
      "n_estimators : 68, score : 0.8024731655263324\n",
      "n_estimators : 69, score : 0.8013307388111229\n",
      "n_estimators : 70, score : 0.8080911430544221\n",
      "n_estimators : 71, score : 0.8013495700207143\n",
      "n_estimators : 72, score : 0.7979662293641328\n",
      "n_estimators : 73, score : 0.8047266336074321\n",
      "n_estimators : 74, score : 0.8081036971941498\n",
      "n_estimators : 75, score : 0.8024668884564685\n",
      "n_estimators : 76, score : 0.8103383340656583\n",
      "n_estimators : 77, score : 0.8002385286548239\n",
      "n_estimators : 78, score : 0.80585022911305\n",
      "n_estimators : 79, score : 0.8013684012303057\n",
      "n_estimators : 80, score : 0.8103383340656581\n",
      "n_estimators : 81, score : 0.8058565061829137\n",
      "n_estimators : 82, score : 0.8092084614901763\n",
      "n_estimators : 83, score : 0.8058313979034587\n",
      "n_estimators : 84, score : 0.8080848659845584\n",
      "n_estimators : 85, score : 0.8013684012303056\n",
      "n_estimators : 86, score : 0.7968740192078337\n",
      "n_estimators : 87, score : 0.8170673529596385\n",
      "n_estimators : 88, score : 0.8036093151716777\n",
      "n_estimators : 89, score : 0.80023225158496\n",
      "n_estimators : 90, score : 0.8092210156299039\n",
      "n_estimators : 91, score : 0.80023225158496\n",
      "n_estimators : 92, score : 0.8036093151716779\n",
      "n_estimators : 93, score : 0.8092210156299039\n",
      "n_estimators : 94, score : 0.8047015253279769\n",
      "n_estimators : 95, score : 0.8103320569957944\n",
      "n_estimators : 96, score : 0.7968614650681063\n",
      "n_estimators : 97, score : 0.8069738246186681\n",
      "n_estimators : 98, score : 0.8125792480070302\n",
      "n_estimators : 99, score : 0.8092084614901764\n",
      "n_estimators : 100, score : 0.8047203565375683\n",
      "n_estimators : 101, score : 0.8058376749733224\n",
      "n_estimators : 102, score : 0.8024606113866047\n",
      "n_estimators : 103, score : 0.8024982738057874\n",
      "n_estimators : 104, score : 0.8002322515849603\n",
      "n_estimators : 105, score : 0.8069738246186681\n",
      "n_estimators : 106, score : 0.806973824618668\n",
      "n_estimators : 107, score : 0.8092210156299039\n",
      "n_estimators : 108, score : 0.8002448057246877\n",
      "n_estimators : 109, score : 0.7991274872889336\n",
      "n_estimators : 110, score : 0.7991212102190696\n",
      "n_estimators : 111, score : 0.8002259745150964\n",
      "n_estimators : 112, score : 0.7934906785512523\n",
      "n_estimators : 113, score : 0.7968802962776975\n",
      "n_estimators : 114, score : 0.8092210156299039\n",
      "n_estimators : 115, score : 0.8024731655263324\n",
      "n_estimators : 116, score : 0.8080911430544221\n",
      "n_estimators : 117, score : 0.7968740192078339\n",
      "n_estimators : 118, score : 0.8024731655263324\n",
      "n_estimators : 119, score : 0.8002259745150964\n",
      "n_estimators : 120, score : 0.8125855250768941\n",
      "n_estimators : 121, score : 0.8024606113866047\n",
      "n_estimators : 122, score : 0.8013558470905782\n",
      "n_estimators : 123, score : 0.8058376749733224\n",
      "n_estimators : 124, score : 0.7957504237022158\n",
      "n_estimators : 125, score : 0.803603038101814\n",
      "n_estimators : 126, score : 0.8103446111355218\n",
      "n_estimators : 127, score : 0.8069612704789405\n",
      "n_estimators : 128, score : 0.7979850605737242\n",
      "n_estimators : 129, score : 0.8058376749733224\n",
      "n_estimators : 130, score : 0.8047078023978406\n",
      "n_estimators : 131, score : 0.803603038101814\n",
      "n_estimators : 132, score : 0.8047140794677045\n",
      "n_estimators : 133, score : 0.8069549934090766\n",
      "n_estimators : 134, score : 0.7991212102190698\n",
      "n_estimators : 135, score : 0.8047266336074319\n",
      "n_estimators : 136, score : 0.7979913376435881\n",
      "n_estimators : 137, score : 0.7991149331492059\n",
      "n_estimators : 138, score : 0.808097420124286\n",
      "n_estimators : 139, score : 0.8024857196660597\n",
      "n_estimators : 140, score : 0.7991086560793421\n",
      "n_estimators : 141, score : 0.8024668884564685\n",
      "n_estimators : 142, score : 0.795744146632352\n",
      "n_estimators : 143, score : 0.8114619295712762\n",
      "n_estimators : 144, score : 0.8002385286548239\n",
      "n_estimators : 145, score : 0.80248571966606\n",
      "n_estimators : 146, score : 0.8069549934090766\n",
      "n_estimators : 147, score : 0.8103383340656581\n",
      "n_estimators : 148, score : 0.8047266336074321\n",
      "n_estimators : 149, score : 0.8092084614901763\n",
      "n_estimators : 150, score : 0.8024919967359236\n",
      "n_estimators : 151, score : 0.8103257799259305\n",
      "n_estimators : 152, score : 0.797991337643588\n",
      "n_estimators : 153, score : 0.8002259745150964\n",
      "n_estimators : 154, score : 0.808097420124286\n",
      "n_estimators : 155, score : 0.8103257799259305\n",
      "n_estimators : 156, score : 0.8058439520431863\n",
      "n_estimators : 157, score : 0.8035967610319503\n",
      "n_estimators : 158, score : 0.8024731655263324\n",
      "n_estimators : 159, score : 0.8047203565375682\n",
      "n_estimators : 160, score : 0.8103320569957944\n",
      "n_estimators : 161, score : 0.8103320569957944\n",
      "n_estimators : 162, score : 0.8024857196660597\n",
      "n_estimators : 163, score : 0.8058439520431863\n",
      "n_estimators : 164, score : 0.8125792480070302\n",
      "n_estimators : 165, score : 0.808097420124286\n",
      "n_estimators : 166, score : 0.8069612704789403\n",
      "n_estimators : 167, score : 0.8047266336074321\n",
      "n_estimators : 168, score : 0.8002259745150961\n",
      "n_estimators : 169, score : 0.797991337643588\n",
      "n_estimators : 170, score : 0.7991023790094783\n",
      "n_estimators : 171, score : 0.8058439520431863\n",
      "n_estimators : 172, score : 0.8035904839620865\n",
      "n_estimators : 173, score : 0.7991212102190697\n",
      "n_estimators : 174, score : 0.8035967610319503\n",
      "n_estimators : 175, score : 0.7979913376435881\n",
      "n_estimators : 176, score : 0.8035904839620865\n",
      "n_estimators : 177, score : 0.8024794425961961\n",
      "n_estimators : 178, score : 0.8069738246186681\n",
      "n_estimators : 179, score : 0.8047329106772958\n",
      "n_estimators : 180, score : 0.8069612704789405\n",
      "n_estimators : 181, score : 0.8013495700207145\n",
      "n_estimators : 182, score : 0.8013621241604418\n",
      "n_estimators : 183, score : 0.8036093151716779\n",
      "n_estimators : 184, score : 0.8058565061829139\n",
      "n_estimators : 185, score : 0.8148138848785387\n",
      "n_estimators : 186, score : 0.8013432929508506\n",
      "n_estimators : 187, score : 0.7968614650681063\n",
      "n_estimators : 188, score : 0.8013495700207143\n",
      "n_estimators : 189, score : 0.8047329106772958\n",
      "n_estimators : 190, score : 0.8058439520431863\n",
      "n_estimators : 191, score : 0.8047140794677045\n",
      "n_estimators : 192, score : 0.8013432929508506\n",
      "n_estimators : 193, score : 0.8047140794677045\n",
      "n_estimators : 194, score : 0.8058439520431862\n",
      "n_estimators : 195, score : 0.8092084614901764\n",
      "n_estimators : 196, score : 0.8069612704789405\n",
      "n_estimators : 197, score : 0.8035967610319503\n",
      "n_estimators : 198, score : 0.8047203565375682\n",
      "n_estimators : 199, score : 0.7968614650681063\n",
      "n_estimators : 200, score : 0.8013432929508506\n",
      "n_estimators : 201, score : 0.8036093151716777\n",
      "n_estimators : 202, score : 0.8103195028560668\n",
      "n_estimators : 203, score : 0.8024731655263324\n",
      "n_estimators : 204, score : 0.7991086560793421\n",
      "n_estimators : 205, score : 0.8024731655263324\n",
      "n_estimators : 206, score : 0.8047266336074321\n",
      "n_estimators : 207, score : 0.8024731655263324\n",
      "n_estimators : 208, score : 0.8080848659845584\n",
      "n_estimators : 209, score : 0.8024794425961961\n",
      "n_estimators : 210, score : 0.8092084614901764\n",
      "n_estimators : 211, score : 0.8092147385600402\n",
      "n_estimators : 212, score : 0.8024794425961961\n",
      "n_estimators : 213, score : 0.8024731655263324\n",
      "n_estimators : 214, score : 0.80585022911305\n",
      "n_estimators : 215, score : 0.8058251208335949\n",
      "n_estimators : 216, score : 0.8058313979034587\n",
      "n_estimators : 217, score : 0.8024794425961961\n",
      "n_estimators : 218, score : 0.80585022911305\n",
      "n_estimators : 219, score : 0.8024794425961961\n",
      "n_estimators : 220, score : 0.8047266336074319\n",
      "n_estimators : 221, score : 0.8069612704789405\n",
      "n_estimators : 222, score : 0.7991023790094783\n",
      "n_estimators : 223, score : 0.8069675475488042\n",
      "n_estimators : 224, score : 0.8080848659845584\n",
      "n_estimators : 225, score : 0.8024606113866047\n"
     ]
    },
    {
     "name": "stdout",
     "output_type": "stream",
     "text": [
      "n_estimators : 226, score : 0.8069738246186681\n",
      "n_estimators : 227, score : 0.8035967610319503\n",
      "n_estimators : 228, score : 0.8047140794677045\n",
      "n_estimators : 229, score : 0.8035842068922227\n",
      "n_estimators : 230, score : 0.8002259745150964\n",
      "n_estimators : 231, score : 0.8013495700207143\n",
      "n_estimators : 232, score : 0.8047329106772958\n",
      "n_estimators : 233, score : 0.8035904839620865\n",
      "n_estimators : 234, score : 0.8013558470905782\n",
      "n_estimators : 235, score : 0.8047078023978408\n",
      "n_estimators : 236, score : 0.8013432929508506\n",
      "n_estimators : 237, score : 0.7991086560793422\n",
      "n_estimators : 238, score : 0.8092084614901764\n",
      "n_estimators : 239, score : 0.8047140794677045\n",
      "n_estimators : 240, score : 0.8114493754315486\n",
      "n_estimators : 241, score : 0.8024606113866047\n",
      "n_estimators : 242, score : 0.8058313979034587\n",
      "n_estimators : 243, score : 0.7979976147134517\n",
      "n_estimators : 244, score : 0.8103320569957944\n",
      "n_estimators : 245, score : 0.8058376749733224\n",
      "n_estimators : 246, score : 0.8024794425961961\n",
      "n_estimators : 247, score : 0.8002196974452327\n",
      "n_estimators : 248, score : 0.8092147385600402\n",
      "n_estimators : 249, score : 0.8047203565375682\n",
      "n_estimators : 250, score : 0.8013558470905779\n"
     ]
    }
   ],
   "source": [
    "# 하이퍼 파라미터 튜닝\n",
    "# n_estimators를 50 ~ 250까지 바꿔가면서 결과 확인\n",
    "for i in range(50, 81) :\n",
    "    forest_model1 = RandomForestClassifier(n_estimators = i)\n",
    "    # 교차검증으로 평가\n",
    "    result = cross_val_score(forest_model1, X_train, y_train, cv=5).mean()\n",
    "    print(f'n_estimators : {i}, score : {result}')"
   ]
  },
  {
   "cell_type": "code",
   "execution_count": null,
   "id": "2e67077d",
   "metadata": {},
   "outputs": [],
   "source": [
    "# 1. n_estimators 를 제한 --> for\n",
    "for i in range(50, 81) :   # 30 - 50 ~ 80, 1씩 증가하는 값\n",
    "# 2. max_depth를 제한 --> for\n",
    "    for j in range(5, 10) : # 5 - 5,6,7,8,9\n",
    "# 30 * 5 = 150\n",
    "# 최적의 하이퍼파라미터 조합을 찾기 위해서는 여러개의 for문이 필요 ==> 복잡, 작업이 번거러워짐\n",
    "# --> 이 문제를 한번에 해결하는 방법\n",
    "# 한번에 여러개의 하이퍼파라미터를 튜닝해주는 함수 ==> GridSearchCV()"
   ]
  },
  {
   "cell_type": "code",
   "execution_count": 12,
   "id": "32157503",
   "metadata": {},
   "outputs": [
    {
     "data": {
      "text/plain": [
       "{'n_estimators': [50, 70, 90, 110, 130, 150],\n",
       " 'max_depth': [3, 4, 5, 6, 7, 8],\n",
       " 'max_features': [0.3, 0.4, 0.5, 0.6, 0.7]}"
      ]
     },
     "execution_count": 12,
     "metadata": {},
     "output_type": "execute_result"
    }
   ],
   "source": [
    "# 1. 하이퍼 파라미터 튜닝\n",
    "# GridSearchCV(모델, 사용할 하이퍼파라미터, cv)\n",
    "\n",
    "# 1. 관심(궁금한)있는 하이퍼파라미터 지정\n",
    "# n_estimators = [50, 70, 90, 110, 130, 150]  --> 50 ~ 150\n",
    "# max_depth = [3,4,5,6,7,8]\n",
    "# max_features = [0.3, 0.4, 0.5, 0.6, 0.7]\n",
    "\n",
    "# 2. 파라미터를 딕셔너리 형태로 저장\n",
    "param = {'n_estimators' : [50, 70, 90, 110, 130, 150],\n",
    "         'max_depth' : [3,4,5,6,7,8],\n",
    "         'max_features' : [0.3, 0.4, 0.5, 0.6, 0.7]}"
   ]
  },
  {
   "cell_type": "markdown",
   "id": "4a141f6b",
   "metadata": {},
   "source": [
    "### GridSearchCV()불러오기"
   ]
  },
  {
   "cell_type": "code",
   "execution_count": 13,
   "id": "3270d021",
   "metadata": {},
   "outputs": [],
   "source": [
    "from sklearn.model_selection import GridSearchCV\n",
    "\n",
    "grid = GridSearchCV(RandomForestClassifier(), param, cv=5)"
   ]
  },
  {
   "cell_type": "code",
   "execution_count": 14,
   "id": "1ab20165",
   "metadata": {},
   "outputs": [
    {
     "data": {
      "text/html": [
       "<style>#sk-container-id-2 {color: black;background-color: white;}#sk-container-id-2 pre{padding: 0;}#sk-container-id-2 div.sk-toggleable {background-color: white;}#sk-container-id-2 label.sk-toggleable__label {cursor: pointer;display: block;width: 100%;margin-bottom: 0;padding: 0.3em;box-sizing: border-box;text-align: center;}#sk-container-id-2 label.sk-toggleable__label-arrow:before {content: \"▸\";float: left;margin-right: 0.25em;color: #696969;}#sk-container-id-2 label.sk-toggleable__label-arrow:hover:before {color: black;}#sk-container-id-2 div.sk-estimator:hover label.sk-toggleable__label-arrow:before {color: black;}#sk-container-id-2 div.sk-toggleable__content {max-height: 0;max-width: 0;overflow: hidden;text-align: left;background-color: #f0f8ff;}#sk-container-id-2 div.sk-toggleable__content pre {margin: 0.2em;color: black;border-radius: 0.25em;background-color: #f0f8ff;}#sk-container-id-2 input.sk-toggleable__control:checked~div.sk-toggleable__content {max-height: 200px;max-width: 100%;overflow: auto;}#sk-container-id-2 input.sk-toggleable__control:checked~label.sk-toggleable__label-arrow:before {content: \"▾\";}#sk-container-id-2 div.sk-estimator input.sk-toggleable__control:checked~label.sk-toggleable__label {background-color: #d4ebff;}#sk-container-id-2 div.sk-label input.sk-toggleable__control:checked~label.sk-toggleable__label {background-color: #d4ebff;}#sk-container-id-2 input.sk-hidden--visually {border: 0;clip: rect(1px 1px 1px 1px);clip: rect(1px, 1px, 1px, 1px);height: 1px;margin: -1px;overflow: hidden;padding: 0;position: absolute;width: 1px;}#sk-container-id-2 div.sk-estimator {font-family: monospace;background-color: #f0f8ff;border: 1px dotted black;border-radius: 0.25em;box-sizing: border-box;margin-bottom: 0.5em;}#sk-container-id-2 div.sk-estimator:hover {background-color: #d4ebff;}#sk-container-id-2 div.sk-parallel-item::after {content: \"\";width: 100%;border-bottom: 1px solid gray;flex-grow: 1;}#sk-container-id-2 div.sk-label:hover label.sk-toggleable__label {background-color: #d4ebff;}#sk-container-id-2 div.sk-serial::before {content: \"\";position: absolute;border-left: 1px solid gray;box-sizing: border-box;top: 0;bottom: 0;left: 50%;z-index: 0;}#sk-container-id-2 div.sk-serial {display: flex;flex-direction: column;align-items: center;background-color: white;padding-right: 0.2em;padding-left: 0.2em;position: relative;}#sk-container-id-2 div.sk-item {position: relative;z-index: 1;}#sk-container-id-2 div.sk-parallel {display: flex;align-items: stretch;justify-content: center;background-color: white;position: relative;}#sk-container-id-2 div.sk-item::before, #sk-container-id-2 div.sk-parallel-item::before {content: \"\";position: absolute;border-left: 1px solid gray;box-sizing: border-box;top: 0;bottom: 0;left: 50%;z-index: -1;}#sk-container-id-2 div.sk-parallel-item {display: flex;flex-direction: column;z-index: 1;position: relative;background-color: white;}#sk-container-id-2 div.sk-parallel-item:first-child::after {align-self: flex-end;width: 50%;}#sk-container-id-2 div.sk-parallel-item:last-child::after {align-self: flex-start;width: 50%;}#sk-container-id-2 div.sk-parallel-item:only-child::after {width: 0;}#sk-container-id-2 div.sk-dashed-wrapped {border: 1px dashed gray;margin: 0 0.4em 0.5em 0.4em;box-sizing: border-box;padding-bottom: 0.4em;background-color: white;}#sk-container-id-2 div.sk-label label {font-family: monospace;font-weight: bold;display: inline-block;line-height: 1.2em;}#sk-container-id-2 div.sk-label-container {text-align: center;}#sk-container-id-2 div.sk-container {/* jupyter's `normalize.less` sets `[hidden] { display: none; }` but bootstrap.min.css set `[hidden] { display: none !important; }` so we also need the `!important` here to be able to override the default hidden behavior on the sphinx rendered scikit-learn.org. See: https://github.com/scikit-learn/scikit-learn/issues/21755 */display: inline-block !important;position: relative;}#sk-container-id-2 div.sk-text-repr-fallback {display: none;}</style><div id=\"sk-container-id-2\" class=\"sk-top-container\"><div class=\"sk-text-repr-fallback\"><pre>GridSearchCV(cv=5, estimator=RandomForestClassifier(),\n",
       "             param_grid={&#x27;max_depth&#x27;: [3, 4, 5, 6, 7, 8],\n",
       "                         &#x27;max_features&#x27;: [0.3, 0.4, 0.5, 0.6, 0.7],\n",
       "                         &#x27;n_estimators&#x27;: [50, 70, 90, 110, 130, 150]})</pre><b>In a Jupyter environment, please rerun this cell to show the HTML representation or trust the notebook. <br />On GitHub, the HTML representation is unable to render, please try loading this page with nbviewer.org.</b></div><div class=\"sk-container\" hidden><div class=\"sk-item sk-dashed-wrapped\"><div class=\"sk-label-container\"><div class=\"sk-label sk-toggleable\"><input class=\"sk-toggleable__control sk-hidden--visually\" id=\"sk-estimator-id-2\" type=\"checkbox\" ><label for=\"sk-estimator-id-2\" class=\"sk-toggleable__label sk-toggleable__label-arrow\">GridSearchCV</label><div class=\"sk-toggleable__content\"><pre>GridSearchCV(cv=5, estimator=RandomForestClassifier(),\n",
       "             param_grid={&#x27;max_depth&#x27;: [3, 4, 5, 6, 7, 8],\n",
       "                         &#x27;max_features&#x27;: [0.3, 0.4, 0.5, 0.6, 0.7],\n",
       "                         &#x27;n_estimators&#x27;: [50, 70, 90, 110, 130, 150]})</pre></div></div></div><div class=\"sk-parallel\"><div class=\"sk-parallel-item\"><div class=\"sk-item\"><div class=\"sk-label-container\"><div class=\"sk-label sk-toggleable\"><input class=\"sk-toggleable__control sk-hidden--visually\" id=\"sk-estimator-id-3\" type=\"checkbox\" ><label for=\"sk-estimator-id-3\" class=\"sk-toggleable__label sk-toggleable__label-arrow\">estimator: RandomForestClassifier</label><div class=\"sk-toggleable__content\"><pre>RandomForestClassifier()</pre></div></div></div><div class=\"sk-serial\"><div class=\"sk-item\"><div class=\"sk-estimator sk-toggleable\"><input class=\"sk-toggleable__control sk-hidden--visually\" id=\"sk-estimator-id-4\" type=\"checkbox\" ><label for=\"sk-estimator-id-4\" class=\"sk-toggleable__label sk-toggleable__label-arrow\">RandomForestClassifier</label><div class=\"sk-toggleable__content\"><pre>RandomForestClassifier()</pre></div></div></div></div></div></div></div></div></div></div>"
      ],
      "text/plain": [
       "GridSearchCV(cv=5, estimator=RandomForestClassifier(),\n",
       "             param_grid={'max_depth': [3, 4, 5, 6, 7, 8],\n",
       "                         'max_features': [0.3, 0.4, 0.5, 0.6, 0.7],\n",
       "                         'n_estimators': [50, 70, 90, 110, 130, 150]})"
      ]
     },
     "execution_count": 14,
     "metadata": {},
     "output_type": "execute_result"
    }
   ],
   "source": [
    "# 2. 학습\n",
    "grid.fit(X_train, y_train)"
   ]
  },
  {
   "cell_type": "code",
   "execution_count": 16,
   "id": "9dc609c1",
   "metadata": {},
   "outputs": [
    {
     "data": {
      "text/plain": [
       "{'max_depth': 8, 'max_features': 0.5, 'n_estimators': 150}"
      ]
     },
     "execution_count": 16,
     "metadata": {},
     "output_type": "execute_result"
    }
   ],
   "source": [
    "# 3. 최적의 파라미터 조합 찾기\n",
    "grid.best_params_"
   ]
  },
  {
   "cell_type": "code",
   "execution_count": 17,
   "id": "37d31800",
   "metadata": {},
   "outputs": [
    {
     "data": {
      "text/plain": [
       "0.8338961772644529"
      ]
     },
     "execution_count": 17,
     "metadata": {},
     "output_type": "execute_result"
    }
   ],
   "source": [
    "# 4. 최적의 파라미터일때 best_score_\n",
    "grid.best_score_"
   ]
  },
  {
   "cell_type": "code",
   "execution_count": 18,
   "id": "1c228d17",
   "metadata": {},
   "outputs": [],
   "source": [
    "# 자세하게 찾아보기\n",
    "param = {'n_estimators' : [148, 149, 150, 151, 152],\n",
    "         'max_depth' : [6,7,8,9,10],\n",
    "         'max_features' : [0.3, 0.4, 0.5, 0.6, 0.7]}"
   ]
  },
  {
   "cell_type": "code",
   "execution_count": 19,
   "id": "0e475899",
   "metadata": {},
   "outputs": [],
   "source": [
    "grid1 = GridSearchCV(RandomForestClassifier(), param, cv=5)"
   ]
  },
  {
   "cell_type": "code",
   "execution_count": 20,
   "id": "3b005f02",
   "metadata": {},
   "outputs": [
    {
     "name": "stdout",
     "output_type": "stream",
     "text": [
      "{'max_depth': 10, 'max_features': 0.6, 'n_estimators': 152}\n",
      "0.8384031134266523\n"
     ]
    }
   ],
   "source": [
    "grid1.fit(X_train, y_train)\n",
    "print(grid1.best_params_)\n",
    "print(grid1.best_score_)"
   ]
  },
  {
   "cell_type": "code",
   "execution_count": 21,
   "id": "68b0cb77",
   "metadata": {},
   "outputs": [
    {
     "data": {
      "text/html": [
       "<style>#sk-container-id-4 {color: black;background-color: white;}#sk-container-id-4 pre{padding: 0;}#sk-container-id-4 div.sk-toggleable {background-color: white;}#sk-container-id-4 label.sk-toggleable__label {cursor: pointer;display: block;width: 100%;margin-bottom: 0;padding: 0.3em;box-sizing: border-box;text-align: center;}#sk-container-id-4 label.sk-toggleable__label-arrow:before {content: \"▸\";float: left;margin-right: 0.25em;color: #696969;}#sk-container-id-4 label.sk-toggleable__label-arrow:hover:before {color: black;}#sk-container-id-4 div.sk-estimator:hover label.sk-toggleable__label-arrow:before {color: black;}#sk-container-id-4 div.sk-toggleable__content {max-height: 0;max-width: 0;overflow: hidden;text-align: left;background-color: #f0f8ff;}#sk-container-id-4 div.sk-toggleable__content pre {margin: 0.2em;color: black;border-radius: 0.25em;background-color: #f0f8ff;}#sk-container-id-4 input.sk-toggleable__control:checked~div.sk-toggleable__content {max-height: 200px;max-width: 100%;overflow: auto;}#sk-container-id-4 input.sk-toggleable__control:checked~label.sk-toggleable__label-arrow:before {content: \"▾\";}#sk-container-id-4 div.sk-estimator input.sk-toggleable__control:checked~label.sk-toggleable__label {background-color: #d4ebff;}#sk-container-id-4 div.sk-label input.sk-toggleable__control:checked~label.sk-toggleable__label {background-color: #d4ebff;}#sk-container-id-4 input.sk-hidden--visually {border: 0;clip: rect(1px 1px 1px 1px);clip: rect(1px, 1px, 1px, 1px);height: 1px;margin: -1px;overflow: hidden;padding: 0;position: absolute;width: 1px;}#sk-container-id-4 div.sk-estimator {font-family: monospace;background-color: #f0f8ff;border: 1px dotted black;border-radius: 0.25em;box-sizing: border-box;margin-bottom: 0.5em;}#sk-container-id-4 div.sk-estimator:hover {background-color: #d4ebff;}#sk-container-id-4 div.sk-parallel-item::after {content: \"\";width: 100%;border-bottom: 1px solid gray;flex-grow: 1;}#sk-container-id-4 div.sk-label:hover label.sk-toggleable__label {background-color: #d4ebff;}#sk-container-id-4 div.sk-serial::before {content: \"\";position: absolute;border-left: 1px solid gray;box-sizing: border-box;top: 0;bottom: 0;left: 50%;z-index: 0;}#sk-container-id-4 div.sk-serial {display: flex;flex-direction: column;align-items: center;background-color: white;padding-right: 0.2em;padding-left: 0.2em;position: relative;}#sk-container-id-4 div.sk-item {position: relative;z-index: 1;}#sk-container-id-4 div.sk-parallel {display: flex;align-items: stretch;justify-content: center;background-color: white;position: relative;}#sk-container-id-4 div.sk-item::before, #sk-container-id-4 div.sk-parallel-item::before {content: \"\";position: absolute;border-left: 1px solid gray;box-sizing: border-box;top: 0;bottom: 0;left: 50%;z-index: -1;}#sk-container-id-4 div.sk-parallel-item {display: flex;flex-direction: column;z-index: 1;position: relative;background-color: white;}#sk-container-id-4 div.sk-parallel-item:first-child::after {align-self: flex-end;width: 50%;}#sk-container-id-4 div.sk-parallel-item:last-child::after {align-self: flex-start;width: 50%;}#sk-container-id-4 div.sk-parallel-item:only-child::after {width: 0;}#sk-container-id-4 div.sk-dashed-wrapped {border: 1px dashed gray;margin: 0 0.4em 0.5em 0.4em;box-sizing: border-box;padding-bottom: 0.4em;background-color: white;}#sk-container-id-4 div.sk-label label {font-family: monospace;font-weight: bold;display: inline-block;line-height: 1.2em;}#sk-container-id-4 div.sk-label-container {text-align: center;}#sk-container-id-4 div.sk-container {/* jupyter's `normalize.less` sets `[hidden] { display: none; }` but bootstrap.min.css set `[hidden] { display: none !important; }` so we also need the `!important` here to be able to override the default hidden behavior on the sphinx rendered scikit-learn.org. See: https://github.com/scikit-learn/scikit-learn/issues/21755 */display: inline-block !important;position: relative;}#sk-container-id-4 div.sk-text-repr-fallback {display: none;}</style><div id=\"sk-container-id-4\" class=\"sk-top-container\"><div class=\"sk-text-repr-fallback\"><pre>RandomForestClassifier(max_depth=10, max_features=0.6, n_estimators=152)</pre><b>In a Jupyter environment, please rerun this cell to show the HTML representation or trust the notebook. <br />On GitHub, the HTML representation is unable to render, please try loading this page with nbviewer.org.</b></div><div class=\"sk-container\" hidden><div class=\"sk-item\"><div class=\"sk-estimator sk-toggleable\"><input class=\"sk-toggleable__control sk-hidden--visually\" id=\"sk-estimator-id-8\" type=\"checkbox\" checked><label for=\"sk-estimator-id-8\" class=\"sk-toggleable__label sk-toggleable__label-arrow\">RandomForestClassifier</label><div class=\"sk-toggleable__content\"><pre>RandomForestClassifier(max_depth=10, max_features=0.6, n_estimators=152)</pre></div></div></div></div></div>"
      ],
      "text/plain": [
       "RandomForestClassifier(max_depth=10, max_features=0.6, n_estimators=152)"
      ]
     },
     "execution_count": 21,
     "metadata": {},
     "output_type": "execute_result"
    }
   ],
   "source": [
    "# 'max_depth' : 10, 'max_features' : 0.6, 'n_estimators' : 152 ==> 베스트 모델 생성\n",
    "forest_model1 = RandomForestClassifier(max_depth=10, max_features=0.6, n_estimators=152)\n",
    "forest_model1.fit(X_train, y_train)"
   ]
  },
  {
   "cell_type": "code",
   "execution_count": null,
   "id": "1d3dcddd",
   "metadata": {},
   "outputs": [],
   "source": [
    "# 학습한 모델로 예측\n",
    "pre = forest_model1.predict(X_test)\n",
    "pre\n",
    "# 평가 결과 답안지 불러오기\n",
    "sub = pd.read_csv('titanic/gender_submission.csv')\n",
    "# 평가 결과 답안지에 예측한 값 넣기\n",
    "sub['Survived'] = pre\n",
    "# 예측한 값 내보내기 ==> kaggle\n",
    "sub.to_csv('ojh_emsemble1.csv', index = False)"
   ]
  },
  {
   "cell_type": "code",
   "execution_count": null,
   "id": "a98225c2",
   "metadata": {},
   "outputs": [],
   "source": []
  },
  {
   "cell_type": "code",
   "execution_count": null,
   "id": "98f6b0f3",
   "metadata": {},
   "outputs": [],
   "source": []
  },
  {
   "cell_type": "code",
   "execution_count": null,
   "id": "1d98b815",
   "metadata": {},
   "outputs": [],
   "source": []
  },
  {
   "cell_type": "code",
   "execution_count": null,
   "id": "1d79dcfa",
   "metadata": {},
   "outputs": [],
   "source": []
  },
  {
   "cell_type": "code",
   "execution_count": null,
   "id": "128c1100",
   "metadata": {},
   "outputs": [],
   "source": []
  },
  {
   "cell_type": "code",
   "execution_count": null,
   "id": "604d85be",
   "metadata": {},
   "outputs": [],
   "source": []
  },
  {
   "cell_type": "code",
   "execution_count": null,
   "id": "b269dd73",
   "metadata": {},
   "outputs": [],
   "source": []
  },
  {
   "cell_type": "code",
   "execution_count": null,
   "id": "86cd2015",
   "metadata": {},
   "outputs": [],
   "source": []
  },
  {
   "cell_type": "code",
   "execution_count": null,
   "id": "35f53733",
   "metadata": {},
   "outputs": [],
   "source": []
  },
  {
   "cell_type": "code",
   "execution_count": null,
   "id": "cbb15e13",
   "metadata": {},
   "outputs": [],
   "source": []
  },
  {
   "cell_type": "code",
   "execution_count": null,
   "id": "a2b64ef9",
   "metadata": {},
   "outputs": [],
   "source": []
  }
 ],
 "metadata": {
  "kernelspec": {
   "display_name": "Python 3 (ipykernel)",
   "language": "python",
   "name": "python3"
  },
  "language_info": {
   "codemirror_mode": {
    "name": "ipython",
    "version": 3
   },
   "file_extension": ".py",
   "mimetype": "text/x-python",
   "name": "python",
   "nbconvert_exporter": "python",
   "pygments_lexer": "ipython3",
   "version": "3.10.9"
  }
 },
 "nbformat": 4,
 "nbformat_minor": 5
}
