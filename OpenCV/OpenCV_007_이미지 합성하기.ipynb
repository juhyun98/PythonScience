{
 "cells": [
  {
   "cell_type": "code",
   "execution_count": 12,
   "id": "1a720a15-f7ff-4d2a-bb68-badf08c87e36",
   "metadata": {},
   "outputs": [],
   "source": [
    "import cv2\n",
    "\n",
    "psy = cv2.imread('images/shy.png')\n",
    "tiger = cv2.imread('images/tiger.png')\n",
    "\n",
    "# 마스크 이미지 만들기 = 쓸부분과 안쓸부분 구분하기\n",
    "mask2gray = cv2.cvtColor(tiger , cv2.COLOR_BGR2GRAY)\n",
    "_, mask_b = cv2.threshold(mask2gray, 200, 255, cv2.THRESH_BINARY)\n",
    "\n",
    "# 마스크 이미지 반전\n",
    "# 흰부분 사용 / 검은부분 사용 안함(위와 반대)\n",
    "mask_b_inv = cv2.bitwise_not(mask_b)\n",
    "# cv2.imshow('mask_b', mask_b)\n",
    "# cv2.imshow('mask_b_inv', mask_b_inv)\n",
    "\n",
    "# 호랑이 이미지에서 사용할 영역의 값만 추출하기(흰부분 가져오고 검은부분 안가져옴)\n",
    "sub_psy = psy[ 94:217, 239:371]\n",
    "img_bg = cv2.bitwise_and(sub_psy, sub_psy, mask = mask_b)\n",
    "img_fg = cv2.bitwise_and(tiger, tiger, mask = mask_b_inv)\n",
    "\n",
    "# cv2.imshow('img_bg', img_bg)\n",
    "# cv2.imshow('img_fg', img_fg)\n",
    "\n",
    "# 두 이미지 합치기\n",
    "bg_fg = cv2.add(img_bg, img_fg)\n",
    "# cv2.imshow('bg_fg', bg_fg)\n",
    "\n",
    "# 원래 이미지에 합성하기\n",
    "psy[ 94:217, 239:371] = bg_fg\n",
    "cv2.imshow('psy', psy)\n",
    "\n",
    "# ROI = 싸이 얼굴영역 추출\n",
    "# 추출된 영역에 호랑이 이미지 합성하기\n",
    "# psy[ 94:217 , 239:371] = tiger\n",
    "\n",
    "# cv2.imshow('psy', psy)\n",
    "# cv2.imshow('tiger', tiger)\n",
    "cv2.waitKey(0)\n",
    "cv2.destroyAllWindows()"
   ]
  },
  {
   "cell_type": "code",
   "execution_count": null,
   "id": "6707515b-10ba-4823-acc6-a63d63ad4ead",
   "metadata": {},
   "outputs": [],
   "source": [
    "# ROI(Region of Image) : 관심영역 : 싸이 얼굴"
   ]
  },
  {
   "cell_type": "code",
   "execution_count": 2,
   "id": "5842532d-53a9-4833-8f9b-dbc70172bde8",
   "metadata": {},
   "outputs": [
    {
     "data": {
      "text/plain": [
       "(838, 630, 3)"
      ]
     },
     "execution_count": 2,
     "metadata": {},
     "output_type": "execute_result"
    }
   ],
   "source": [
    "# 컬러 이미지\n",
    "# 세로, 가로, 색상 채널\n",
    "psy.shape"
   ]
  },
  {
   "cell_type": "code",
   "execution_count": 4,
   "id": "6f6f173b-8f7d-4605-bfee-4f9f867ad250",
   "metadata": {},
   "outputs": [],
   "source": [
    "# 좌 상단 좌표: 280, 50\n",
    "# 우 하단 좌표: 400, 200\n",
    "# 싸이 얼굴 영억 자르기\n",
    "# [열= y, 행 =x]\n",
    "sub_psy = psy[94:217 , 239:371]\n",
    "cv2.imshow('sub',sub_psy)\n",
    "cv2.waitKey(0)\n",
    "cv2.destroyAllWindows()"
   ]
  },
  {
   "cell_type": "code",
   "execution_count": null,
   "id": "fa46cd6e-f2b5-4a74-84b3-86477baaadcd",
   "metadata": {},
   "outputs": [],
   "source": [
    "# 카메라 연동 후 고정된 영역에 마스크 출력하기"
   ]
  },
  {
   "cell_type": "code",
   "execution_count": 14,
   "id": "c8c09cbf-e0ed-4342-8f2c-f7918fe5c35b",
   "metadata": {},
   "outputs": [
    {
     "name": "stdout",
     "output_type": "stream",
     "text": [
      "종료\n"
     ]
    }
   ],
   "source": [
    "import cv2\n",
    "\n",
    "cap = cv2.VideoCapture(0)\n",
    "\n",
    "# 한번만 실행되어도 상관 없다\n",
    "tiger = cv2.imread('images/tiger.png')\n",
    "mask2gray = cv2.cvtColor(tiger , cv2.COLOR_BGR2GRAY)\n",
    "_, mask_b = cv2.threshold(mask2gray, 200, 255, cv2.THRESH_BINARY)\n",
    "mask_b_inv = cv2.bitwise_not(mask_b)\n",
    "\n",
    "while cap.isOpened() :\n",
    "\n",
    "    ret, frame = cap.read() # 초당 30번은 실행시켜야함\n",
    "    frame = cv2.flip(frame, 1)\n",
    "    \n",
    "    if not ret :\n",
    "        print(\"종료\")\n",
    "        break\n",
    "\n",
    "\n",
    "    sub_frame = frame[ 94:217 , 239:371]\n",
    "    img_bg = cv2.bitwise_and(sub_frame, sub_frame, mask = mask_b)\n",
    "    img_fg = cv2.bitwise_and(tiger,tiger, mask = mask_b_inv)\n",
    "    bg_fg = cv2.add(img_bg,img_fg)\n",
    "    frame[ 94:217 , 239:371] = bg_fg\n",
    "    \n",
    "    cv2.imshow(\"video\", frame)\n",
    "    \n",
    "    key = cv2.waitKey(33) # 1장의 사진을 33ms동안 출력한다. 1초 = 1000ms \n",
    "\n",
    "    if key == 49 :\n",
    "        print(\"종료\")\n",
    "        break\n",
    "        \n",
    "cap.release()\n",
    "cv2.destroyAllWindows()"
   ]
  },
  {
   "cell_type": "code",
   "execution_count": null,
   "id": "31d3cac2-9e6b-4d1d-879c-53a0380f5486",
   "metadata": {},
   "outputs": [],
   "source": [
    "import cv2\n",
    "\n",
    "psy = cv2.imread('images/psy.png')\n",
    "tiger = cv2.imread('images/tiger.png')\n",
    "\n",
    "mask2gray = cv2.cvtColor(tiger , cv2.COLOR_BGR2GRAY)\n",
    "_, mask_b = cv2.threshold(mask2gray, 200, 255, cv2.THRESH_BINARY)\n",
    "mask_b_inv = cv2.bitwise_not(mask_b)\n",
    "sub_psy = psy[ 94:217 , 239:371]\n",
    "img_bg = cv2.bitwise_and(sub_psy, sub_psy, mask = mask_b)\n",
    "img_fg = cv2.bitwise_and(tiger,tiger, mask = mask_b_inv)\n",
    "bg_fg = cv2.add(img_bg,img_fg)\n",
    "psy[ 94:217 , 239:371] = bg_fg\n",
    "\n",
    "cv2.imshow('psy',psy)\n",
    "cv2.waitKey(0)\n",
    "cv2.destroyAllWindows()"
   ]
  },
  {
   "cell_type": "code",
   "execution_count": null,
   "id": "ba4f5215-9e59-4a1f-960a-4d9a445f7620",
   "metadata": {},
   "outputs": [],
   "source": []
  },
  {
   "cell_type": "code",
   "execution_count": null,
   "id": "36b96b81-c302-42ef-b954-5d58ff1a9809",
   "metadata": {},
   "outputs": [],
   "source": []
  },
  {
   "cell_type": "code",
   "execution_count": null,
   "id": "f951aae8-5a0e-483a-a4c3-2655a7b5504e",
   "metadata": {},
   "outputs": [],
   "source": []
  }
 ],
 "metadata": {
  "kernelspec": {
   "display_name": "Python 3 (ipykernel)",
   "language": "python",
   "name": "python3"
  },
  "language_info": {
   "codemirror_mode": {
    "name": "ipython",
    "version": 3
   },
   "file_extension": ".py",
   "mimetype": "text/x-python",
   "name": "python",
   "nbconvert_exporter": "python",
   "pygments_lexer": "ipython3",
   "version": "3.8.18"
  }
 },
 "nbformat": 4,
 "nbformat_minor": 5
}
