{
 "cells": [
  {
   "cell_type": "markdown",
   "id": "b0447618",
   "metadata": {},
   "source": [
    "### 1. 문제정의\n",
    "- 영화리뷰데이를 활용해서 긍정, 부정 감성분석 진행하자!\n",
    "    - 감성문석이란?\n",
    "    - 특정주제에 대한 글의 감성 태도를 파악하는것 (긍정/부정)\n",
    "- 텍스트 데이터를 다루는 방법에 대해서 이해해보자"
   ]
  },
  {
   "cell_type": "code",
   "execution_count": 1,
   "id": "f8a2feea",
   "metadata": {},
   "outputs": [],
   "source": [
    "# 파일 불러오는 방법\n",
    "from sklearn.datasets import load_files\n",
    "import numpy as np\n",
    "import pandas as pd"
   ]
  },
  {
   "cell_type": "code",
   "execution_count": null,
   "id": "7a14ac81",
   "metadata": {},
   "outputs": [],
   "source": [
    "# 파일 불러오기\n",
    "data_url = 'data/aclImdb/train/'\n",
    "rv_train = load_files(data_url, shuffle=True)\n",
    "rv_train"
   ]
  },
  {
   "cell_type": "code",
   "execution_count": null,
   "id": "a48cc011",
   "metadata": {},
   "outputs": [],
   "source": []
  },
  {
   "cell_type": "code",
   "execution_count": null,
   "id": "564377cc",
   "metadata": {},
   "outputs": [],
   "source": []
  },
  {
   "cell_type": "code",
   "execution_count": null,
   "id": "cd287334",
   "metadata": {},
   "outputs": [],
   "source": []
  },
  {
   "cell_type": "code",
   "execution_count": null,
   "id": "71c36e96",
   "metadata": {},
   "outputs": [],
   "source": []
  },
  {
   "cell_type": "code",
   "execution_count": null,
   "id": "fa588a23",
   "metadata": {},
   "outputs": [],
   "source": []
  },
  {
   "cell_type": "code",
   "execution_count": null,
   "id": "a05f2e52",
   "metadata": {},
   "outputs": [],
   "source": []
  },
  {
   "cell_type": "code",
   "execution_count": null,
   "id": "118d852d",
   "metadata": {},
   "outputs": [],
   "source": []
  }
 ],
 "metadata": {
  "kernelspec": {
   "display_name": "Python 3 (ipykernel)",
   "language": "python",
   "name": "python3"
  },
  "language_info": {
   "codemirror_mode": {
    "name": "ipython",
    "version": 3
   },
   "file_extension": ".py",
   "mimetype": "text/x-python",
   "name": "python",
   "nbconvert_exporter": "python",
   "pygments_lexer": "ipython3",
   "version": "3.10.9"
  }
 },
 "nbformat": 4,
 "nbformat_minor": 5
}
