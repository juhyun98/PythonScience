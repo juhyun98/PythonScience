{
 "cells": [
  {
   "cell_type": "markdown",
   "id": "f2c3b48d",
   "metadata": {},
   "source": [
    "### 목표\n",
    " - 타이타닉 데이터를 활용하여 생존자/사망자 예측해보자\n",
    " - kaggle 경진대회에 참가하여 우리 점수를 확인해보자\n",
    " - 머신러닝의 전체 과정을 체험해보자\n",
    " \n",
    " #### 머신러닝 과정\n",
    "  - 1. 문제정의 : 목표설정, 어떤 모델\n",
    "  - 2. 데이터 수집 : 분류를 할거라면 class로 담긴 레이블이 있는 데이터 수집 같은\n",
    "  - 3. 데이터 전처리 : 이상치/결측치 처리, 특성 처리(특성공학)\n",
    "  - 4. 데이터 탐색(탐색전 데이터 분석) : 기술 통계, 특성 간의 관계\n",
    "  - 5. 모델 선택 및 하이퍼 파라미터 설정\n",
    "  - 6. 모델 예측 및 평가\n",
    "  - 7. 모델 서비스화"
   ]
  },
  {
   "cell_type": "code",
   "execution_count": 2,
   "id": "4ff02ed0",
   "metadata": {},
   "outputs": [],
   "source": [
    "import numpy as np\n",
    "import pandas as pd\n",
    "import matplotlib.pyplot as plt # 시각화 라이브러리\n",
    "import seaborn as sns # 시각화 라이브러리\n",
    "# train, test 분리하는 도구\n",
    "from sklearn.model_selection import train_test_split\n",
    "# 평가 도구\n",
    "from sklearn.metrics import accuracy_score\n",
    "# tree model - 사망/생존 이진분류\n",
    "from sklearn.tree import DecisionTreeClassifier"
   ]
  },
  {
   "cell_type": "code",
   "execution_count": null,
   "id": "7d4090c2",
   "metadata": {},
   "outputs": [],
   "source": [
    "# train , test 변수에 데이터 불러와서 담기\n",
    "# 단, 인덱스를 승객의 번호로 설정해서 담아줄 것\n"
   ]
  },
  {
   "cell_type": "code",
   "execution_count": 20,
   "id": "2194d32f",
   "metadata": {},
   "outputs": [
    {
     "data": {
      "text/html": [
       "<div>\n",
       "<style scoped>\n",
       "    .dataframe tbody tr th:only-of-type {\n",
       "        vertical-align: middle;\n",
       "    }\n",
       "\n",
       "    .dataframe tbody tr th {\n",
       "        vertical-align: top;\n",
       "    }\n",
       "\n",
       "    .dataframe thead th {\n",
       "        text-align: right;\n",
       "    }\n",
       "</style>\n",
       "<table border=\"1\" class=\"dataframe\">\n",
       "  <thead>\n",
       "    <tr style=\"text-align: right;\">\n",
       "      <th></th>\n",
       "      <th>Pclass</th>\n",
       "      <th>Name</th>\n",
       "      <th>Sex</th>\n",
       "      <th>Age</th>\n",
       "      <th>SibSp</th>\n",
       "      <th>Parch</th>\n",
       "      <th>Ticket</th>\n",
       "      <th>Fare</th>\n",
       "      <th>Cabin</th>\n",
       "      <th>Embarked</th>\n",
       "    </tr>\n",
       "    <tr>\n",
       "      <th>PassengerId</th>\n",
       "      <th></th>\n",
       "      <th></th>\n",
       "      <th></th>\n",
       "      <th></th>\n",
       "      <th></th>\n",
       "      <th></th>\n",
       "      <th></th>\n",
       "      <th></th>\n",
       "      <th></th>\n",
       "      <th></th>\n",
       "    </tr>\n",
       "  </thead>\n",
       "  <tbody>\n",
       "    <tr>\n",
       "      <th>892</th>\n",
       "      <td>3</td>\n",
       "      <td>Kelly, Mr. James</td>\n",
       "      <td>male</td>\n",
       "      <td>34.5</td>\n",
       "      <td>0</td>\n",
       "      <td>0</td>\n",
       "      <td>330911</td>\n",
       "      <td>7.8292</td>\n",
       "      <td>NaN</td>\n",
       "      <td>Q</td>\n",
       "    </tr>\n",
       "    <tr>\n",
       "      <th>893</th>\n",
       "      <td>3</td>\n",
       "      <td>Wilkes, Mrs. James (Ellen Needs)</td>\n",
       "      <td>female</td>\n",
       "      <td>47.0</td>\n",
       "      <td>1</td>\n",
       "      <td>0</td>\n",
       "      <td>363272</td>\n",
       "      <td>7.0000</td>\n",
       "      <td>NaN</td>\n",
       "      <td>S</td>\n",
       "    </tr>\n",
       "    <tr>\n",
       "      <th>894</th>\n",
       "      <td>2</td>\n",
       "      <td>Myles, Mr. Thomas Francis</td>\n",
       "      <td>male</td>\n",
       "      <td>62.0</td>\n",
       "      <td>0</td>\n",
       "      <td>0</td>\n",
       "      <td>240276</td>\n",
       "      <td>9.6875</td>\n",
       "      <td>NaN</td>\n",
       "      <td>Q</td>\n",
       "    </tr>\n",
       "  </tbody>\n",
       "</table>\n",
       "</div>"
      ],
      "text/plain": [
       "             Pclass                              Name     Sex   Age  SibSp  \\\n",
       "PassengerId                                                                  \n",
       "892               3                  Kelly, Mr. James    male  34.5      0   \n",
       "893               3  Wilkes, Mrs. James (Ellen Needs)  female  47.0      1   \n",
       "894               2         Myles, Mr. Thomas Francis    male  62.0      0   \n",
       "\n",
       "             Parch  Ticket    Fare Cabin Embarked  \n",
       "PassengerId                                        \n",
       "892              0  330911  7.8292   NaN        Q  \n",
       "893              0  363272  7.0000   NaN        S  \n",
       "894              0  240276  9.6875   NaN        Q  "
      ]
     },
     "execution_count": 20,
     "metadata": {},
     "output_type": "execute_result"
    }
   ],
   "source": [
    "train = pd.read_csv('titanic/train.csv', index_col = 'PassengerId')\n",
    "test = pd.read_csv('titanic/test.csv', index_col = 'PassengerId')\n",
    "\n",
    "train.head(3)\n",
    "test.head(3)"
   ]
  },
  {
   "cell_type": "code",
   "execution_count": 18,
   "id": "e2c84a7e",
   "metadata": {},
   "outputs": [
    {
     "name": "stdout",
     "output_type": "stream",
     "text": [
      "트레인 크기: (891, 11)\n",
      "테스트 크기: (418, 10)\n"
     ]
    }
   ],
   "source": [
    "# 크기 확인\n",
    "print('트레인 크기:', train.shape)\n",
    "print('테스트 크기:', test.shape) # test 정답 데이터 x (-1)"
   ]
  },
  {
   "cell_type": "code",
   "execution_count": 19,
   "id": "f75691e8",
   "metadata": {},
   "outputs": [
    {
     "name": "stdout",
     "output_type": "stream",
     "text": [
      "Index(['Survived', 'Pclass', 'Name', 'Sex', 'Age', 'SibSp', 'Parch', 'Ticket',\n",
      "       'Fare', 'Cabin', 'Embarked'],\n",
      "      dtype='object')\n",
      "Index(['Pclass', 'Name', 'Sex', 'Age', 'SibSp', 'Parch', 'Ticket', 'Fare',\n",
      "       'Cabin', 'Embarked'],\n",
      "      dtype='object')\n"
     ]
    }
   ],
   "source": [
    "# 컬럼명만 뽑아서 확인하기\n",
    "print(train.columns)\n",
    "print(test.columns)"
   ]
  },
  {
   "cell_type": "markdown",
   "id": "669fe8b4",
   "metadata": {},
   "source": [
    "### 데이터 전처리 및 데이터 탐색\n",
    "#### 결측치 확인"
   ]
  },
  {
   "cell_type": "code",
   "execution_count": null,
   "id": "d3cd20e7",
   "metadata": {},
   "outputs": [],
   "source": [
    "# info 함수 통해서 train 결측치 확인\n",
    "train.info()\n",
    "# 결측치 존재 컬럼 : Age, Cabin, Embarked"
   ]
  },
  {
   "cell_type": "code",
   "execution_count": 21,
   "id": "e8032747",
   "metadata": {
    "collapsed": true
   },
   "outputs": [
    {
     "name": "stdout",
     "output_type": "stream",
     "text": [
      "<class 'pandas.core.frame.DataFrame'>\n",
      "Int64Index: 418 entries, 892 to 1309\n",
      "Data columns (total 10 columns):\n",
      " #   Column    Non-Null Count  Dtype  \n",
      "---  ------    --------------  -----  \n",
      " 0   Pclass    418 non-null    int64  \n",
      " 1   Name      418 non-null    object \n",
      " 2   Sex       418 non-null    object \n",
      " 3   Age       332 non-null    float64\n",
      " 4   SibSp     418 non-null    int64  \n",
      " 5   Parch     418 non-null    int64  \n",
      " 6   Ticket    418 non-null    object \n",
      " 7   Fare      417 non-null    float64\n",
      " 8   Cabin     91 non-null     object \n",
      " 9   Embarked  418 non-null    object \n",
      "dtypes: float64(2), int64(3), object(5)\n",
      "memory usage: 35.9+ KB\n"
     ]
    }
   ],
   "source": [
    "# info 함수 통해서 test 결측치 확인\n",
    "test.info()\n",
    "# 결측치 존재 컬럼 : Age, Fare, Cabin"
   ]
  },
  {
   "cell_type": "code",
   "execution_count": 23,
   "id": "ffa0df7b",
   "metadata": {
    "collapsed": true
   },
   "outputs": [
    {
     "data": {
      "text/plain": [
       "Pclass        0\n",
       "Name          0\n",
       "Sex           0\n",
       "Age          86\n",
       "SibSp         0\n",
       "Parch         0\n",
       "Ticket        0\n",
       "Fare          1\n",
       "Cabin       327\n",
       "Embarked      0\n",
       "dtype: int64"
      ]
     },
     "execution_count": 23,
     "metadata": {},
     "output_type": "execute_result"
    }
   ],
   "source": [
    "# 판다스 함수 통해서 test 결측치 확인\n",
    "# 데이터 자리에 결측치가 있니? => 데이터.isnull()\n",
    "test.isnull().sum()\n",
    "# 결측치 존재 컬럼 : Age, Fare, Cabin\n",
    "# 결측치(행)를 삭제하기 보다 채우면서 처리해보겠음"
   ]
  },
  {
   "cell_type": "markdown",
   "id": "269982d9",
   "metadata": {},
   "source": [
    "#### train-Embarked 결측치 처리\n",
    " - 승객이 탑승한 항구 이름"
   ]
  },
  {
   "cell_type": "code",
   "execution_count": 27,
   "id": "4263a938",
   "metadata": {},
   "outputs": [
    {
     "data": {
      "text/plain": [
       "S    644\n",
       "C    168\n",
       "Q     77\n",
       "Name: Embarked, dtype: int64"
      ]
     },
     "execution_count": 27,
     "metadata": {},
     "output_type": "execute_result"
    }
   ],
   "source": [
    "# train 데이터 기준으로 Embarked 컬럼 확인\n",
    "train['Embarked'].unique()\n",
    "\n",
    "# 빈도수가 높은 승선항 알파벳으로 결측치를 처리해보자\n",
    "train['Embarked'].value_counts() # S 644 로 채워보자!"
   ]
  },
  {
   "cell_type": "code",
   "execution_count": null,
   "id": "4dbd4bb9",
   "metadata": {},
   "outputs": [],
   "source": [
    "# test 안보나요?\n",
    "# 탐색용 데이터는 train ,\n",
    "# 모델 학습 : 모델이 학습을 잘하도록 데이터를 셋팅\n",
    "# test 데이터는 모델을 일반화시키는데 도움이 되지 않음\n",
    "# train 데이터가 학습할때 사용되고 모델의 일반화에 도움을 줌"
   ]
  },
  {
   "cell_type": "code",
   "execution_count": 35,
   "id": "88ef070e",
   "metadata": {},
   "outputs": [
    {
     "data": {
      "text/plain": [
       "S    646\n",
       "C    168\n",
       "Q     77\n",
       "Name: Embarked, dtype: int64"
      ]
     },
     "execution_count": 35,
     "metadata": {},
     "output_type": "execute_result"
    }
   ],
   "source": [
    "# Embarked 결측치를 'S' 로 채우기\n",
    "# fillna(채울값)\n",
    "train['Embarked'] = train['Embarked'].fillna('S')\n",
    "train['Embarked'].unique()\n",
    "train['Embarked'].value_counts()"
   ]
  },
  {
   "cell_type": "code",
   "execution_count": 36,
   "id": "0ed43ba3",
   "metadata": {},
   "outputs": [],
   "source": [
    "# 추가) Embarked 컬럼에 결측치가 있던 행의 정보를 확인하고\n",
    "# 비슷한 사람의 데이터가 있다면 그 사람의 승선항 정보를 대체값으로 활용"
   ]
  },
  {
   "cell_type": "markdown",
   "id": "a8c4adbd",
   "metadata": {},
   "source": [
    "#### test - Fare 결측치 처리\n",
    " - 요금 평균, 중앙값 계산 가능\n",
    " - 데이터 분석을 진행하면서 관련이 있을 법한 컬럼을 연관지어서 대체값을 확인해보자"
   ]
  },
  {
   "cell_type": "code",
   "execution_count": 40,
   "id": "3dcf71d0",
   "metadata": {},
   "outputs": [
    {
     "data": {
      "text/plain": [
       "count    891.000000\n",
       "mean      32.204208\n",
       "std       49.693429\n",
       "min        0.000000\n",
       "25%        7.910400\n",
       "50%       14.454200\n",
       "75%       31.000000\n",
       "max      512.329200\n",
       "Name: Fare, dtype: float64"
      ]
     },
     "execution_count": 40,
     "metadata": {},
     "output_type": "execute_result"
    }
   ],
   "source": [
    "# train 기준으로 데이터 탐색\n",
    "# Fare 컬럼 정보 확인 -> 기술통계량\n",
    "train['Fare'].describe()\n",
    "# 요금의 대표값으로 평균보다 중앙이 더 나을 수 있겠음\n"
   ]
  },
  {
   "cell_type": "code",
   "execution_count": 43,
   "id": "1ef1397a",
   "metadata": {},
   "outputs": [
    {
     "name": "stderr",
     "output_type": "stream",
     "text": [
      "C:\\Users\\gjaischool\\AppData\\Local\\Temp\\ipykernel_21024\\209051233.py:7: FutureWarning: The default value of numeric_only in DataFrame.corr is deprecated. In a future version, it will default to False. Select only valid columns or specify the value of numeric_only to silence this warning.\n",
      "  train.corr()['Survived'].abs()\n"
     ]
    },
    {
     "data": {
      "text/plain": [
       "Survived    1.000000\n",
       "Pclass      0.338481\n",
       "Age         0.077221\n",
       "SibSp       0.035322\n",
       "Parch       0.081629\n",
       "Fare        0.257307\n",
       "Name: Survived, dtype: float64"
      ]
     },
     "execution_count": 43,
     "metadata": {},
     "output_type": "execute_result"
    }
   ],
   "source": [
    "# 변수(특성) 간의 상관관계 확인\n",
    "# 상관계수(숫자) : -1 ~ 1\n",
    "# 각 컬럼의 상관 정도를 수치로 표현한 값 : 상관계수\n",
    "# -1, 1에 가까울수록 변수간의 관계성이 있음\n",
    "# 0에 가까울수록 변수간의 관계성이 적음\n",
    "# 생존 사망과 연관이 있는 컬럼 확인해보기\n",
    "train.corr()['Survived'].abs()\n",
    "# Pclass가 생존/사망 연관성이 있을 수 있겠음\n",
    "# 등급에 따라 요금의 중앙값으로 채워주는 것도 의미가 있지 않을까?"
   ]
  },
  {
   "cell_type": "code",
   "execution_count": 91,
   "id": "65446511",
   "metadata": {},
   "outputs": [
    {
     "data": {
      "text/html": [
       "<div>\n",
       "<style scoped>\n",
       "    .dataframe tbody tr th:only-of-type {\n",
       "        vertical-align: middle;\n",
       "    }\n",
       "\n",
       "    .dataframe tbody tr th {\n",
       "        vertical-align: top;\n",
       "    }\n",
       "\n",
       "    .dataframe thead th {\n",
       "        text-align: right;\n",
       "    }\n",
       "</style>\n",
       "<table border=\"1\" class=\"dataframe\">\n",
       "  <thead>\n",
       "    <tr style=\"text-align: right;\">\n",
       "      <th></th>\n",
       "      <th>Fare</th>\n",
       "    </tr>\n",
       "    <tr>\n",
       "      <th>Pclass</th>\n",
       "      <th></th>\n",
       "    </tr>\n",
       "  </thead>\n",
       "  <tbody>\n",
       "    <tr>\n",
       "      <th>1</th>\n",
       "      <td>60.2875</td>\n",
       "    </tr>\n",
       "    <tr>\n",
       "      <th>2</th>\n",
       "      <td>14.2500</td>\n",
       "    </tr>\n",
       "    <tr>\n",
       "      <th>3</th>\n",
       "      <td>8.0500</td>\n",
       "    </tr>\n",
       "  </tbody>\n",
       "</table>\n",
       "</div>"
      ],
      "text/plain": [
       "           Fare\n",
       "Pclass         \n",
       "1       60.2875\n",
       "2       14.2500\n",
       "3        8.0500"
      ]
     },
     "execution_count": 91,
     "metadata": {},
     "output_type": "execute_result"
    }
   ],
   "source": [
    "# 1. Pclass, Fare 두개 컬럼만 인덱싱해보기\n",
    "# 2. Pclass 1,2,3 등급끼리 묶기(그룹화하기)\n",
    "# 3. median() 집계함수 연결\n",
    "train.loc[:,['Pclass', 'Fare']].groupby('Pclass').count()\n",
    "# train.iloc[:,[1,8]].groupby('Pclass')\n",
    "train.loc[:,['Pclass', 'Fare']].groupby('Pclass').median()"
   ]
  },
  {
   "cell_type": "code",
   "execution_count": null,
   "id": "e1afbbfe",
   "metadata": {},
   "outputs": [],
   "source": []
  },
  {
   "cell_type": "code",
   "execution_count": null,
   "id": "aa02cf42",
   "metadata": {},
   "outputs": [],
   "source": []
  },
  {
   "cell_type": "code",
   "execution_count": null,
   "id": "a3f6d50e",
   "metadata": {},
   "outputs": [],
   "source": []
  },
  {
   "cell_type": "code",
   "execution_count": null,
   "id": "6263f572",
   "metadata": {},
   "outputs": [],
   "source": []
  },
  {
   "cell_type": "code",
   "execution_count": null,
   "id": "134d8f09",
   "metadata": {},
   "outputs": [],
   "source": []
  },
  {
   "cell_type": "code",
   "execution_count": null,
   "id": "23ceda9b",
   "metadata": {},
   "outputs": [],
   "source": []
  }
 ],
 "metadata": {
  "kernelspec": {
   "display_name": "Python 3 (ipykernel)",
   "language": "python",
   "name": "python3"
  },
  "language_info": {
   "codemirror_mode": {
    "name": "ipython",
    "version": 3
   },
   "file_extension": ".py",
   "mimetype": "text/x-python",
   "name": "python",
   "nbconvert_exporter": "python",
   "pygments_lexer": "ipython3",
   "version": "3.10.9"
  }
 },
 "nbformat": 4,
 "nbformat_minor": 5
}
