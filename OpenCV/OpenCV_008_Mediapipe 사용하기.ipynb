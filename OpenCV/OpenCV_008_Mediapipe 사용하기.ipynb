{
 "cells": [
  {
   "cell_type": "code",
   "execution_count": 21,
   "id": "e23ad07a-c3f3-44b0-a069-d7f0bd6c3a70",
   "metadata": {},
   "outputs": [],
   "source": [
    "import mediapipe as mp\n",
    "import cv2\n",
    "\n",
    "# 얼굴에서 특징점을 찾을 수 있는 기능 불러오기\n",
    "mp_face_mesh = mp.solutions.face_mesh\n",
    "# 찾은 특징점 표현하기\n",
    "mp_drawing = mp.solutions.drawing_utils\n",
    "# 특징점 그리기 속성\n",
    "drawing_spec = mp_drawing.DrawingSpec(thickness = 1, color = (0,0,255))\n",
    "# 얼굴에서 특징점 찾기 속성\n",
    "face_mesh = mp_face_mesh.FaceMesh(\n",
    "    min_detection_confidence = 0.5, # 얼굴 검출 확률(자체 판단) 50% 이상인것들만 출력하기\n",
    "    min_tracking_confidence = 0.5 # 특징점 검출 확률(자체 판단) 50% 이상인것들만 출력하기\n",
    ")\n",
    "\n",
    "# 한번만 실행하면 되는 코드\n",
    "tiger = cv2.imread('images/zzzzz.jpg')\n",
    "tiger = cv2.resize(tiger, (150,150)) \n",
    "mask2gray = cv2.cvtColor(tiger, cv2.COLOR_BGR2GRAY)\n",
    "_, mask_b = cv2.threshold(mask2gray, 200, 255, cv2.THRESH_BINARY)\n",
    "mask_b_inv = cv2.bitwise_not(mask_b)\n",
    "\n",
    "cap = cv2.VideoCapture(0)\n",
    "\n",
    "while cap.isOpened() :\n",
    "    ret, img = cap.read()\n",
    "    if not ret :\n",
    "        break\n",
    "\n",
    "    # 카메라에서 불러온 사진에서 얼굴 특징점 찾기\n",
    "    results = face_mesh.process(img)\n",
    "\n",
    "    # 얼굴의 특징점(478개)을 감지했을때 실행하겠다\n",
    "    if results.multi_face_landmarks is not None :\n",
    "        # print(results.multi_face_landmarks)\n",
    "        #for res in results.multi_face_landmarks :\n",
    "        #   mp_drawing.draw_landmarks(img, res, mp_face_mesh.FACEMESH_TESSELATION)\n",
    "        # 478개 점을 사용하기가 편함\n",
    "        face_landmarks = results.multi_face_landmarks[0]\n",
    "        \n",
    "        # 코의 좌표 찾기\n",
    "        x = int(face_landmarks.landmark[6].x * img.shape[1])\n",
    "        y = int(face_landmarks.landmark[6].y * img.shape[0])\n",
    "        # cv2.circle(img, (x, y), 20, (0,0,255), cv2.FILLED)\n",
    "        # 이미지를 집어넣을 중심 좌표(코의 위치) > x,y\n",
    "        # 마스크 이미지의 크기 > 123,132(tiger.shape)\n",
    "        try:        \n",
    "            sub_img = img[y-75 : y+75 , x-75 : x+75 ]\n",
    "            img_bg = cv2.bitwise_and(sub_img, sub_img, mask = mask_b)\n",
    "            img_fg = cv2.bitwise_and(tiger,tiger, mask = mask_b_inv)\n",
    "            bg_fg = cv2.add(img_bg,img_fg)\n",
    "            img[y-75 : y+75 , x-75 : x+75] = bg_fg\n",
    "        except :\n",
    "            pass\n",
    "    \n",
    "    cv2.imshow('video', img)\n",
    "    if cv2.waitKey(33) == 49 :\n",
    "        break\n",
    "cap.release()\n",
    "cv2.destroyAllWindows()"
   ]
  },
  {
   "cell_type": "code",
   "execution_count": null,
   "id": "b070b6d3-8233-4992-b972-0f33c1a1c9ed",
   "metadata": {},
   "outputs": [],
   "source": []
  },
  {
   "cell_type": "code",
   "execution_count": null,
   "id": "e1bb7d4f-321c-41d6-9200-18b96e5596e0",
   "metadata": {},
   "outputs": [],
   "source": []
  },
  {
   "cell_type": "code",
   "execution_count": null,
   "id": "8474f565-dc2b-4e16-adf5-5b6889a836ae",
   "metadata": {},
   "outputs": [],
   "source": []
  },
  {
   "cell_type": "code",
   "execution_count": null,
   "id": "e4d0a661-a95e-4be0-9169-9147f0d5c6e8",
   "metadata": {},
   "outputs": [],
   "source": []
  }
 ],
 "metadata": {
  "kernelspec": {
   "display_name": "Python 3 (ipykernel)",
   "language": "python",
   "name": "python3"
  },
  "language_info": {
   "codemirror_mode": {
    "name": "ipython",
    "version": 3
   },
   "file_extension": ".py",
   "mimetype": "text/x-python",
   "name": "python",
   "nbconvert_exporter": "python",
   "pygments_lexer": "ipython3",
   "version": "3.8.18"
  }
 },
 "nbformat": 4,
 "nbformat_minor": 5
}
