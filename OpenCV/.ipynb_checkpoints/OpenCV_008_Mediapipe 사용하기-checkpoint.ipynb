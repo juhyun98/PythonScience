{
 "cells": [
  {
   "cell_type": "code",
   "execution_count": 6,
   "id": "e23ad07a-c3f3-44b0-a069-d7f0bd6c3a70",
   "metadata": {},
   "outputs": [
    {
     "name": "stdout",
     "output_type": "stream",
     "text": [
      "265 182\n",
      "267 179\n",
      "269 175\n",
      "272 171\n",
      "274 170\n",
      "276 170\n",
      "282 171\n",
      "283 171\n",
      "283 170\n",
      "284 169\n",
      "285 167\n",
      "285 166\n",
      "285 166\n",
      "286 166\n",
      "284 168\n",
      "284 169\n",
      "284 169\n",
      "283 168\n",
      "282 170\n",
      "281 173\n",
      "280 176\n",
      "280 175\n",
      "281 178\n",
      "281 180\n",
      "282 180\n",
      "284 180\n",
      "286 183\n",
      "289 188\n",
      "292 190\n",
      "300 193\n",
      "299 193\n",
      "300 192\n",
      "299 192\n",
      "299 192\n",
      "298 193\n",
      "296 193\n"
     ]
    }
   ],
   "source": [
    "import mediapipe as mp\n",
    "import cv2\n",
    "\n",
    "# 얼굴에서 특징점을 찾을 수 있는 기능 불러오기\n",
    "mp_face_mesh = mp.solutions.face_mesh\n",
    "# 찾은 특징점 표현하기\n",
    "mp_drawing = mp.solutions.drawing_utils\n",
    "# 특징점 그리기 속성\n",
    "drawing_spec = mp_drawing.DrawingSpec(thickness = 1, color = (0,0,255))\n",
    "# 얼굴에서 특징점 찾기 속성\n",
    "face_mesh = mp_face_mesh.FaceMesh(\n",
    "    min_detection_confidence = 0.5, # 얼굴 검출 확률(자체 판단) 50% 이상인것들만 출력하기\n",
    "    min_tracking_confidence = 0.5 # 특징점 검출 확률(자체 판단) 50% 이상인것들만 출력하기\n",
    ")\n",
    "    \n",
    "\n",
    "cap = cv2.VideoCapture(0)\n",
    "\n",
    "while cap.isOpened() :\n",
    "    ret, img = cap.read()\n",
    "    if not ret :\n",
    "        break\n",
    "\n",
    "    # 카메라에서 불러온 사진에서 얼굴 특징점 찾기\n",
    "    results = face_mesh.process(img)\n",
    "\n",
    "    # 얼굴의 특징점(478개)을 감지했을때 실행하겠다\n",
    "    if results.multi_face_landmarks is not None :\n",
    "        # print(results.multi_face_landmarks)\n",
    "        #for res in results.multi_face_landmarks :\n",
    "        #   mp_drawing.draw_landmarks(img, res, mp_face_mesh.FACEMESH_TESSELATION)\n",
    "        # 478개 점을 사용하기가 편함\n",
    "        face_landmarks = results.multi_face_landmarks[0]\n",
    "        \n",
    "        # 코의 좌표 찾기\n",
    "        x = int(face_landmarks.landmark[8].x * img.shape[1])\n",
    "        y = int(face_landmarks.landmark[8].y * img.shape[0])\n",
    "        print(x, y)\n",
    "    \n",
    "    \n",
    "    cv2.imshow('video', img)\n",
    "    if cv2.waitKey(33) == 49 :\n",
    "        break\n",
    "cap.release()\n",
    "cv2.destroyAllWindows()"
   ]
  },
  {
   "cell_type": "code",
   "execution_count": null,
   "id": "b070b6d3-8233-4992-b972-0f33c1a1c9ed",
   "metadata": {},
   "outputs": [],
   "source": []
  },
  {
   "cell_type": "code",
   "execution_count": null,
   "id": "e1bb7d4f-321c-41d6-9200-18b96e5596e0",
   "metadata": {},
   "outputs": [],
   "source": []
  },
  {
   "cell_type": "code",
   "execution_count": null,
   "id": "8474f565-dc2b-4e16-adf5-5b6889a836ae",
   "metadata": {},
   "outputs": [],
   "source": []
  },
  {
   "cell_type": "code",
   "execution_count": null,
   "id": "e4d0a661-a95e-4be0-9169-9147f0d5c6e8",
   "metadata": {},
   "outputs": [],
   "source": []
  }
 ],
 "metadata": {
  "kernelspec": {
   "display_name": "Python 3 (ipykernel)",
   "language": "python",
   "name": "python3"
  },
  "language_info": {
   "codemirror_mode": {
    "name": "ipython",
    "version": 3
   },
   "file_extension": ".py",
   "mimetype": "text/x-python",
   "name": "python",
   "nbconvert_exporter": "python",
   "pygments_lexer": "ipython3",
   "version": "3.8.18"
  }
 },
 "nbformat": 4,
 "nbformat_minor": 5
}
